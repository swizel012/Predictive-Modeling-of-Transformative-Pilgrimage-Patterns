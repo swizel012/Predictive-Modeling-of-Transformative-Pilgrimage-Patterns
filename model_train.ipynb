{
 "cells": [
  {
   "cell_type": "code",
   "execution_count": 24,
   "id": "64e94722",
   "metadata": {},
   "outputs": [],
   "source": [
    "import pandas as pd\n",
    "import numpy as np\n",
    "import matplotlib.pyplot as plt\n",
    "import seaborn as sns\n",
    "from sklearn.preprocessing import LabelEncoder\n",
    "from sklearn.model_selection import train_test_split\n",
    "\n",
    "from sklearn.metrics import classification_report, accuracy_score\n",
    "\n",
    "from sklearn.ensemble import GradientBoostingClassifier\n",
    "\n",
    "# Load dataset\n",
    "file_path = \"C:/Users/91749/Downloads/Goa University Dissertation (1).xlsx\"\n",
    "xls = pd.ExcelFile(file_path)\n",
    "df = xls.parse(\"Onsite Form Responses \")"
   ]
  },
  {
   "cell_type": "code",
   "execution_count": 25,
   "id": "a01cb764",
   "metadata": {},
   "outputs": [
    {
     "name": "stdout",
     "output_type": "stream",
     "text": [
      "Index(['Timestamp', 'Your Age', 'Gender:',\n",
      "       'State of Residence in India/ Country', 'Event Attending',\n",
      "       'How many years (approx) have you been visiting the Basilica?',\n",
      "       'Are you camping at the Basilica?',\n",
      "       'I agree to have my information used only for research purposes.',\n",
      "       'walking pilgrim', 'State/Country', 'Region', 'Age groups',\n",
      "       'No of times visited', 'Type of visitors', 'Country', 'Column 1', 'Day',\n",
      "       'Month', 'Weekday', 'Weekend', 'Is Feast Day'],\n",
      "      dtype='object')\n"
     ]
    }
   ],
   "source": [
    "# Convert Date of Collection to datetime if available\n",
    "\n",
    "    \n",
    "# Extract useful components\n",
    "df['Day'] = df['Timestamp'].dt.day\n",
    "df['Month'] = df['Timestamp'].dt.month\n",
    "df['Weekday'] = df['Timestamp'].dt.weekday  # 0 = Monday, 6 = Sunday\n",
    "df['Weekend'] = df['Weekday'].apply(lambda x: 1 if x >= 5 else 0)\n",
    "df['Is Feast Day'] = df['Timestamp'].isin(['2024-12-03']).astype(int)  # Add your feast dates\n",
    "\n",
    "\n",
    "# Clean column names\n",
    "df.columns = df.columns.str.strip()\n",
    "print(df.columns)\n",
    "df['State/Country'] = df['State/Country'].apply(lambda x: str(x).strip().lower())\n",
    "df['Gender:'] = df['Gender:'].apply(lambda x: str(x).strip().lower())\n",
    "df['Are you camping at the Basilica?'] = df['Are you camping at the Basilica?'].apply(lambda x: str(x).strip().lower())\n",
    "df['Age groups'] = df['Age groups'].apply(lambda x: str(x).strip().lower())\n",
    "df['Type of visitors'] = df['Type of visitors'].apply(lambda x: str(x).strip().lower())\n",
    "df['walking pilgrim'] = df['walking pilgrim'].apply(lambda x: str(x).strip().lower())\n",
    "\n",
    "\n",
    "\n",
    "\n"
   ]
  },
  {
   "cell_type": "code",
   "execution_count": 26,
   "id": "e3722df0",
   "metadata": {},
   "outputs": [
    {
     "name": "stdout",
     "output_type": "stream",
     "text": [
      "0                         [Veneration of Relics, Mass]\n",
      "1                [Fair / Cultural Event / Sightseeing]\n",
      "2    [Veneration of Relics, Mass, Fair / Cultural E...\n",
      "3    [Veneration of Relics, Mass, Fair / Cultural E...\n",
      "4    [Veneration of Relics, Mass, Fair / Cultural E...\n",
      "Name: Event Attending, dtype: object\n"
     ]
    }
   ],
   "source": [
    "\n",
    "df['Event Attending'] = df['Event Attending'].apply(lambda x: [i.strip() for i in x.split(',')] if pd.notna(x) else [])\n",
    "print(df['Event Attending'].head(5)) \n",
    "\n",
    "\n",
    "# Create new columns for each event\n",
    "df['Veneration of Relics'] = df['Event Attending'].apply(lambda x: 1 if 'Veneration of Relics' in x else 0)\n",
    "df['Mass'] = df['Event Attending'].apply(lambda x: 1 if 'Mass' in x else 0)\n",
    "df['Fair/Cultural Event/Sightseeing'] = df['Event Attending'].apply(lambda x: 1 if 'Fair / Cultural Event / Sightseeing' in x else 0)\n",
    "df['Walking pilgrimage'] = df['Event Attending'].apply(lambda x: 1 if 'Walking pilgrimage' in x else 0)\n",
    "\n"
   ]
  },
  {
   "cell_type": "code",
   "execution_count": 27,
   "id": "711889ff",
   "metadata": {},
   "outputs": [
    {
     "name": "stdout",
     "output_type": "stream",
     "text": [
      "0    female\n",
      "1    female\n",
      "2    female\n",
      "3      Male\n",
      "4      Male\n",
      "Name: Gender:, dtype: object\n"
     ]
    }
   ],
   "source": [
    "# Standardizing Gender values\n",
    "df[\"Gender:\"] = df[\"Gender:\"].replace({\"male\": \"Male\"})\n",
    "print(df['Gender:'].head(5)) "
   ]
  },
  {
   "cell_type": "code",
   "execution_count": 28,
   "id": "62af8872",
   "metadata": {},
   "outputs": [
    {
     "name": "stdout",
     "output_type": "stream",
     "text": [
      "   Timestamp  Your Age  Gender: State of Residence in India/ Country  \\\n",
      "0 2024-11-24        68        1                                  Goa   \n",
      "1 2024-11-24        17        1                           Chandigarh   \n",
      "2 2024-11-24        40        1                           Tamil Nadu   \n",
      "3 2024-11-24        42        0                           Tamil Nadu   \n",
      "4 2024-11-24        75        0                          Tamil Nadu    \n",
      "\n",
      "                                     Event Attending  \\\n",
      "0                       [Veneration of Relics, Mass]   \n",
      "1              [Fair / Cultural Event / Sightseeing]   \n",
      "2  [Veneration of Relics, Mass, Fair / Cultural E...   \n",
      "3  [Veneration of Relics, Mass, Fair / Cultural E...   \n",
      "4  [Veneration of Relics, Mass, Fair / Cultural E...   \n",
      "\n",
      "  How many years (approx) have you been visiting the Basilica?  \\\n",
      "0                                  Its my first time             \n",
      "1                                  Its my first time             \n",
      "2                                            2 years             \n",
      "3                                            2 years             \n",
      "4                                            2 years             \n",
      "\n",
      "   Are you camping at the Basilica?  \\\n",
      "0                                 1   \n",
      "1                                 0   \n",
      "2                                 0   \n",
      "3                                 0   \n",
      "4                                 0   \n",
      "\n",
      "  I agree to have my information used only for research purposes.  \\\n",
      "0                                                Yes                \n",
      "1                                                Yes                \n",
      "2                                                Yes                \n",
      "3                                                Yes                \n",
      "4                                                Yes                \n",
      "\n",
      "   walking pilgrim  State/Country  ... Column 1  Day Month  Weekday Weekend  \\\n",
      "0                1             11  ...      NaN   24    11        6       1   \n",
      "1                1             32  ...      NaN   24    11        6       1   \n",
      "2                1             38  ...      NaN   24    11        6       1   \n",
      "3                1             38  ...      NaN   24    11        6       1   \n",
      "4                1             38  ...      NaN   24    11        6       1   \n",
      "\n",
      "   Is Feast Day  Veneration of Relics  Mass  Fair/Cultural Event/Sightseeing  \\\n",
      "0             0                     1     1                                0   \n",
      "1             0                     0     0                                1   \n",
      "2             0                     1     1                                1   \n",
      "3             0                     1     1                                1   \n",
      "4             0                     1     1                                1   \n",
      "\n",
      "   Walking pilgrimage  \n",
      "0                   0  \n",
      "1                   0  \n",
      "2                   0  \n",
      "3                   0  \n",
      "4                   0  \n",
      "\n",
      "[5 rows x 25 columns]\n"
     ]
    }
   ],
   "source": [
    "\n",
    "# Encode categorical variables\n",
    "le_gender = LabelEncoder()\n",
    "le_state = LabelEncoder()\n",
    "le_stay = LabelEncoder()\n",
    "le_age = LabelEncoder()\n",
    "le_visitcount=LabelEncoder()\n",
    "df['Gender:'] = le_gender.fit_transform(df['Gender:'])\n",
    "df['State/Country'] = le_state.fit_transform(df['State/Country'])\n",
    "#df[\"Region\"] = le_state.fit_transform(df[\"Region\"])\n",
    "\n",
    "df[\"Are you camping at the Basilica?\"] = le_stay.fit_transform(df[\"Are you camping at the Basilica?\"])\n",
    "df[\"Age groups\"] = le_age.fit_transform(df[\"Age groups\"])\n",
    "df[\"Type of visitors\"] = le_visitcount.fit_transform(df[\"Type of visitors\"])\n",
    "le_wp = LabelEncoder()\n",
    "le_event = LabelEncoder()\n",
    "df['walking pilgrim'] = le_wp.fit_transform(df['walking pilgrim'])\n",
    "print(df.head(5))\n"
   ]
  },
  {
   "cell_type": "code",
   "execution_count": null,
   "id": "6718b7d7",
   "metadata": {},
   "outputs": [],
   "source": []
  },
  {
   "cell_type": "code",
   "execution_count": 29,
   "id": "e0d717fb",
   "metadata": {},
   "outputs": [],
   "source": [
    "# Replace \"It's my first time\" with 1 in Visit_Count column\n",
    "df[\"No of times visited\"] = df[\"No of times visited\"].replace(\"Its my first time\", 1)"
   ]
  },
  {
   "cell_type": "code",
   "execution_count": 30,
   "id": "a9079d78",
   "metadata": {},
   "outputs": [],
   "source": [
    "# Define features and labels\n",
    "X = df[['Age groups', 'Gender:', 'State/Country', 'Type of visitors', 'Are you camping at the Basilica?', 'Weekend', 'Is Feast Day']]\n",
    "y = df[['Fair/Cultural Event/Sightseeing','Veneration of Relics', 'Mass']]"
   ]
  },
  {
   "cell_type": "code",
   "execution_count": 31,
   "id": "59e1bb46",
   "metadata": {},
   "outputs": [],
   "source": [
    "# Split dataset\n",
    "X_train, X_test, y_train, y_test = train_test_split(X, y, test_size=0.3, random_state=42)"
   ]
  },
  {
   "cell_type": "code",
   "execution_count": 32,
   "id": "62d3a420",
   "metadata": {},
   "outputs": [
    {
     "name": "stdout",
     "output_type": "stream",
     "text": [
      "\n",
      "--- Gradient Boosting Classifier ---\n"
     ]
    },
    {
     "name": "stderr",
     "output_type": "stream",
     "text": [
      "c:\\Users\\91749\\anaconda3\\Lib\\site-packages\\sklearn\\metrics\\_classification.py:1344: UndefinedMetricWarning: Precision and F-score are ill-defined and being set to 0.0 in samples with no predicted labels. Use `zero_division` parameter to control this behavior.\n",
      "  _warn_prf(average, modifier, msg_start, len(result))\n",
      "c:\\Users\\91749\\anaconda3\\Lib\\site-packages\\sklearn\\metrics\\_classification.py:1344: UndefinedMetricWarning: Recall and F-score are ill-defined and being set to 0.0 in samples with no true labels. Use `zero_division` parameter to control this behavior.\n",
      "  _warn_prf(average, modifier, msg_start, len(result))\n"
     ]
    },
    {
     "name": "stdout",
     "output_type": "stream",
     "text": [
      "                                 precision    recall  f1-score   support\n",
      "\n",
      "Fair/Cultural Event/Sightseeing       0.71      0.86      0.78       369\n",
      "           Veneration of Relics       0.79      0.93      0.85       472\n",
      "                           Mass       0.77      0.70      0.73       316\n",
      "\n",
      "                      micro avg       0.76      0.84      0.80      1157\n",
      "                      macro avg       0.76      0.83      0.79      1157\n",
      "                   weighted avg       0.76      0.84      0.80      1157\n",
      "                    samples avg       0.75      0.84      0.77      1157\n",
      "\n",
      "Accuracy Score: 0.49846153846153846\n",
      "Hamming Loss: 0.2523076923076923\n",
      "Jaccard Score (macro): 0.6528734861841702\n",
      "AUC-ROC Score (macro): 0.7920500578012047\n"
     ]
    },
    {
     "data": {
      "image/png": "[encoded data removed]",
      "text/plain": [
       "<Figure size 640x480 with 1 Axes>"
      ]
     },
     "metadata": {},
     "output_type": "display_data"
    }
   ],
   "source": [
    "\n",
    "from sklearn.metrics import classification_report, accuracy_score, hamming_loss, jaccard_score, roc_auc_score, roc_curve, auc\n",
    "\n",
    "from sklearn.multioutput import MultiOutputClassifier\n",
    "\n",
    "\n",
    "# Function to plot ROC Curve for multi-label\n",
    "def plot_multilabel_roc(y_test, y_score, title, class_names):\n",
    "    n_classes = y_test.shape[1]\n",
    "    fpr = dict()\n",
    "    tpr = dict()\n",
    "    roc_auc = dict()\n",
    "\n",
    "    for i in range(n_classes):\n",
    "        fpr[i], tpr[i], _ = roc_curve(y_test.iloc[:, i], y_score[:, i])\n",
    "        roc_auc[i] = auc(fpr[i], tpr[i])\n",
    "\n",
    "    plt.figure()\n",
    "    for i in range(n_classes):\n",
    "        plt.plot(fpr[i], tpr[i], label=f'{class_names[i]} (AUC = {roc_auc[i]:.2f})')\n",
    "    plt.plot([0, 1], [0, 1], 'k--')\n",
    "    plt.xlabel('False Positive Rate')\n",
    "    plt.ylabel('True Positive Rate')\n",
    "    plt.title(f'ROC Curve - {title}')\n",
    "    plt.legend(loc='lower right')\n",
    "    plt.grid()\n",
    "    plt.show()\n",
    "\n",
    "# List of models\n",
    "models = {\n",
    "\n",
    "    \"Gradient Boosting\": MultiOutputClassifier(GradientBoostingClassifier())\n",
    "}\n",
    "\n",
    "# Evaluate each model\n",
    "for name, model in models.items():\n",
    "    print(f\"\\n--- {name} Classifier ---\")\n",
    "    model.fit(X_train, y_train)\n",
    "    y_pred = model.predict(X_test)\n",
    "\n",
    "    # Try-except for predict_proba\n",
    "    try:\n",
    "        y_score = model.predict_proba(X_test)\n",
    "        y_score = np.array([prob[:, 1] for prob in y_score]).T\n",
    "        supports_proba = True\n",
    "    except AttributeError:\n",
    "        y_score = y_pred\n",
    "        supports_proba = False\n",
    "\n",
    "    print(classification_report(y_test, y_pred, target_names=y.columns))\n",
    "    print(\"Accuracy Score:\", accuracy_score(y_test, y_pred))\n",
    "    print(\"Hamming Loss:\", hamming_loss(y_test, y_pred))\n",
    "    print(\"Jaccard Score (macro):\", jaccard_score(y_test, y_pred, average='macro'))\n",
    "\n",
    "    if supports_proba:\n",
    "        print(\"AUC-ROC Score (macro):\", roc_auc_score(y_test, y_score, average='macro'))\n",
    "        plot_multilabel_roc(y_test, y_score, name, y.columns)\n"
   ]
  },
  {
   "cell_type": "code",
   "execution_count": 1,
   "id": "40acc105",
   "metadata": {},
   "outputs": [
    {
     "ename": "ModuleNotFoundError",
     "evalue": "No module named 'tensorflow'",
     "output_type": "error",
     "traceback": [
      "\u001b[1;31m---------------------------------------------------------------------------\u001b[0m",
      "\u001b[1;31mModuleNotFoundError\u001b[0m                       Traceback (most recent call last)",
      "Cell \u001b[1;32mIn[1], line 1\u001b[0m\n\u001b[1;32m----> 1\u001b[0m \u001b[38;5;28;01mfrom\u001b[39;00m \u001b[38;5;21;01mtensorflow\u001b[39;00m\u001b[38;5;21;01m.\u001b[39;00m\u001b[38;5;21;01mkeras\u001b[39;00m\u001b[38;5;21;01m.\u001b[39;00m\u001b[38;5;21;01mmodels\u001b[39;00m \u001b[38;5;28;01mimport\u001b[39;00m Sequential\n\u001b[0;32m      2\u001b[0m \u001b[38;5;28;01mfrom\u001b[39;00m \u001b[38;5;21;01mtensorflow\u001b[39;00m\u001b[38;5;21;01m.\u001b[39;00m\u001b[38;5;21;01mkeras\u001b[39;00m\u001b[38;5;21;01m.\u001b[39;00m\u001b[38;5;21;01mlayers\u001b[39;00m \u001b[38;5;28;01mimport\u001b[39;00m Dense\n\u001b[0;32m      3\u001b[0m \u001b[38;5;28;01mfrom\u001b[39;00m \u001b[38;5;21;01mtensorflow\u001b[39;00m\u001b[38;5;21;01m.\u001b[39;00m\u001b[38;5;21;01mkeras\u001b[39;00m\u001b[38;5;21;01m.\u001b[39;00m\u001b[38;5;21;01moptimizers\u001b[39;00m \u001b[38;5;28;01mimport\u001b[39;00m Adam\n",
      "\u001b[1;31mModuleNotFoundError\u001b[0m: No module named 'tensorflow'"
     ]
    }
   ],
   "source": [
    "from tensorflow.keras.models import Sequential\n",
    "from tensorflow.keras.layers import Dense\n",
    "from tensorflow.keras.optimizers import Adam\n",
    "\n",
    "# Example: 7 input features and 3 output labels\n",
    "model = Sequential()\n",
    "model.add(Dense(64, input_dim=7, activation='relu'))   # 1st hidden layer\n",
    "model.add(Dense(32, activation='relu'))                # 2nd hidden layer\n",
    "model.add(Dense(3, activation='sigmoid'))              # Output layer (3 events)\n",
    "\n",
    "# Compile\n",
    "model.compile(optimizer=Adam(learning_rate=0.001),\n",
    "              loss='binary_crossentropy',\n",
    "              metrics=['accuracy'])\n"
   ]
  },
  {
   "cell_type": "code",
   "execution_count": 6,
   "id": "90342c68",
   "metadata": {},
   "outputs": [
    {
     "ename": "ModuleNotFoundError",
     "evalue": "No module named 'tensorflow'",
     "output_type": "error",
     "traceback": [
      "\u001b[1;31m---------------------------------------------------------------------------\u001b[0m",
      "\u001b[1;31mModuleNotFoundError\u001b[0m                       Traceback (most recent call last)",
      "Cell \u001b[1;32mIn[6], line 1\u001b[0m\n\u001b[1;32m----> 1\u001b[0m \u001b[38;5;28;01mimport\u001b[39;00m \u001b[38;5;21;01mtensorflow\u001b[39;00m \u001b[38;5;28;01mas\u001b[39;00m \u001b[38;5;21;01mtf\u001b[39;00m\n\u001b[0;32m      2\u001b[0m \u001b[38;5;28mprint\u001b[39m(tf\u001b[38;5;241m.\u001b[39m__version__)\n",
      "\u001b[1;31mModuleNotFoundError\u001b[0m: No module named 'tensorflow'"
     ]
    }
   ],
   "source": [
    "import tensorflow as tf\n",
    "print(tf.__version__)\n"
   ]
  },
  {
   "cell_type": "code",
   "execution_count": 46,
   "id": "85559292",
   "metadata": {},
   "outputs": [
    {
     "name": "stdout",
     "output_type": "stream",
     "text": [
      "Model saved successfully!\n"
     ]
    }
   ],
   "source": [
    "import joblib\n",
    "joblib.dump(model, 'gradient_boost_model.joblib')\n",
    "\n",
    "print(\"Model saved successfully!\")"
   ]
  },
  {
   "cell_type": "code",
   "execution_count": 48,
   "id": "a8b24c68",
   "metadata": {},
   "outputs": [
    {
     "name": "stdout",
     "output_type": "stream",
     "text": [
      "encoders saved successfully!\n"
     ]
    }
   ],
   "source": [
    "joblib.dump(le_state, 'encoders/le_state.joblib')\n",
    "joblib.dump(le_stay, 'encoders/le_stay.joblib')\n",
    "joblib.dump(le_visitcount, 'encoders/le_visitcount.joblib')\n",
    "joblib.dump(le_age, 'encoders/le_age.joblib')\n",
    "# Save the rest of your label encoders similarly\n",
    "\n",
    "print(\"encoders saved successfully!\")"
   ]
  },
  {
   "cell_type": "code",
   "execution_count": 35,
   "id": "855505aa",
   "metadata": {},
   "outputs": [
    {
     "ename": "FileNotFoundError",
     "evalue": "[Errno 2] No such file or directory: 'C:/Users/91749/OneDrive/Desktop/Dissertation/models/gradient_boost_model.pkl'",
     "output_type": "error",
     "traceback": [
      "\u001b[1;31m---------------------------------------------------------------------------\u001b[0m",
      "\u001b[1;31mFileNotFoundError\u001b[0m                         Traceback (most recent call last)",
      "Cell \u001b[1;32mIn[35], line 4\u001b[0m\n\u001b[0;32m      1\u001b[0m \u001b[38;5;28;01mimport\u001b[39;00m \u001b[38;5;21;01mpickle\u001b[39;00m\n\u001b[0;32m      3\u001b[0m \u001b[38;5;66;03m#Load the model (do this once, maybe at the start of your script)\u001b[39;00m\n\u001b[1;32m----> 4\u001b[0m \u001b[38;5;28;01mwith\u001b[39;00m \u001b[38;5;28mopen\u001b[39m(\u001b[38;5;124m\"\u001b[39m\u001b[38;5;124mC:/Users/91749/OneDrive/Desktop/Dissertation/models/gradient_boost_model.pkl\u001b[39m\u001b[38;5;124m\"\u001b[39m, \u001b[38;5;124m\"\u001b[39m\u001b[38;5;124mrb\u001b[39m\u001b[38;5;124m\"\u001b[39m) \u001b[38;5;28;01mas\u001b[39;00m f:\n\u001b[0;32m      5\u001b[0m     model \u001b[38;5;241m=\u001b[39m pickle\u001b[38;5;241m.\u001b[39mload(f)\n\u001b[0;32m      7\u001b[0m \u001b[38;5;66;03m# Then later in your predict_participation function:\u001b[39;00m\n",
      "File \u001b[1;32mc:\\Users\\91749\\anaconda3\\Lib\\site-packages\\IPython\\core\\interactiveshell.py:284\u001b[0m, in \u001b[0;36m_modified_open\u001b[1;34m(file, *args, **kwargs)\u001b[0m\n\u001b[0;32m    277\u001b[0m \u001b[38;5;28;01mif\u001b[39;00m file \u001b[38;5;129;01min\u001b[39;00m {\u001b[38;5;241m0\u001b[39m, \u001b[38;5;241m1\u001b[39m, \u001b[38;5;241m2\u001b[39m}:\n\u001b[0;32m    278\u001b[0m     \u001b[38;5;28;01mraise\u001b[39;00m \u001b[38;5;167;01mValueError\u001b[39;00m(\n\u001b[0;32m    279\u001b[0m         \u001b[38;5;124mf\u001b[39m\u001b[38;5;124m\"\u001b[39m\u001b[38;5;124mIPython won\u001b[39m\u001b[38;5;124m'\u001b[39m\u001b[38;5;124mt let you open fd=\u001b[39m\u001b[38;5;132;01m{\u001b[39;00mfile\u001b[38;5;132;01m}\u001b[39;00m\u001b[38;5;124m by default \u001b[39m\u001b[38;5;124m\"\u001b[39m\n\u001b[0;32m    280\u001b[0m         \u001b[38;5;124m\"\u001b[39m\u001b[38;5;124mas it is likely to crash IPython. If you know what you are doing, \u001b[39m\u001b[38;5;124m\"\u001b[39m\n\u001b[0;32m    281\u001b[0m         \u001b[38;5;124m\"\u001b[39m\u001b[38;5;124myou can use builtins\u001b[39m\u001b[38;5;124m'\u001b[39m\u001b[38;5;124m open.\u001b[39m\u001b[38;5;124m\"\u001b[39m\n\u001b[0;32m    282\u001b[0m     )\n\u001b[1;32m--> 284\u001b[0m \u001b[38;5;28;01mreturn\u001b[39;00m io_open(file, \u001b[38;5;241m*\u001b[39margs, \u001b[38;5;241m*\u001b[39m\u001b[38;5;241m*\u001b[39mkwargs)\n",
      "\u001b[1;31mFileNotFoundError\u001b[0m: [Errno 2] No such file or directory: 'C:/Users/91749/OneDrive/Desktop/Dissertation/models/gradient_boost_model.pkl'"
     ]
    }
   ],
   "source": [
    "\n",
    "import pickle\n",
    "\n",
    "#Load the model (do this once, maybe at the start of your script)\n",
    "with open(\"C:/Users/91749/OneDrive/Desktop/Dissertation/models/gradient_boost_model.pkl\", \"rb\") as f:\n",
    "    model = pickle.load(f)\n",
    "\n",
    "# Then later in your predict_participation function:\n",
    "prediction = model.predict(features)\n"
   ]
  },
  {
   "cell_type": "code",
   "execution_count": 49,
   "id": "819418aa",
   "metadata": {},
   "outputs": [],
   "source": [
    "# Step 4: Load the model from the saved file\n",
    "loaded_model = joblib.load('gradient_boost_model.joblib')\n",
    "\n",
    "# Predict with the loaded model (using the same test set as an example)\n",
    "y_pred_loaded = loaded_model.predict(X_test)\n",
    "\n"
   ]
  },
  {
   "cell_type": "code",
   "execution_count": 50,
   "id": "2a5430f9",
   "metadata": {},
   "outputs": [
    {
     "name": "stdout",
     "output_type": "stream",
     "text": [
      "Predicted Event(s): [[0 1 1]]\n"
     ]
    }
   ],
   "source": [
    "import pandas as pd\n",
    "\n",
    "# Example new input for a first-time visitor\n",
    "new_data = pd.DataFrame([{\n",
    "\n",
    "    'Age groups':4, \n",
    "    'Gender:':1, \n",
    "    'State/Country':1, \n",
    "    'Type of visitors':2, \n",
    "    'Are you camping at the Basilica?':1, \n",
    "    'Weekend':1, \n",
    "    'Is Feast Day':1\n",
    "}])\n",
    "\n",
    "# Predict event(s) the visitor is likely to attend\n",
    "predicted_event = loaded_model.predict(new_data)\n",
    "\n",
    "# If it's multioutput, this will return a 2D array (e.g., [[1, 0, 1]] for 3 events)\n",
    "print(\"Predicted Event(s):\", predicted_event)\n",
    "\n",
    "\n"
   ]
  },
  {
   "cell_type": "code",
   "execution_count": null,
   "id": "208d2e62",
   "metadata": {},
   "outputs": [
    {
     "ename": "AttributeError",
     "evalue": "'list' object has no attribute 'shape'",
     "output_type": "error",
     "traceback": [
      "\u001b[1;31m---------------------------------------------------------------------------\u001b[0m",
      "\u001b[1;31mAttributeError\u001b[0m                            Traceback (most recent call last)",
      "Cell \u001b[1;32mIn[53], line 12\u001b[0m\n\u001b[0;32m      9\u001b[0m y_pred \u001b[38;5;241m=\u001b[39m [\u001b[38;5;241m1\u001b[39m, \u001b[38;5;241m0\u001b[39m, \u001b[38;5;241m0\u001b[39m]  \u001b[38;5;66;03m# Predicted binary vector\u001b[39;00m\n\u001b[0;32m     11\u001b[0m \u001b[38;5;66;03m# Decode back\u001b[39;00m\n\u001b[1;32m---> 12\u001b[0m decoded_events \u001b[38;5;241m=\u001b[39m mlb\u001b[38;5;241m.\u001b[39minverse_transform([y_pred])\n\u001b[0;32m     13\u001b[0m \u001b[38;5;28mprint\u001b[39m(decoded_events[\u001b[38;5;241m0\u001b[39m])\n",
      "File \u001b[1;32mc:\\Users\\91749\\anaconda3\\Lib\\site-packages\\sklearn\\preprocessing\\_label.py:920\u001b[0m, in \u001b[0;36mMultiLabelBinarizer.inverse_transform\u001b[1;34m(self, yt)\u001b[0m\n\u001b[0;32m    905\u001b[0m \u001b[38;5;250m\u001b[39m\u001b[38;5;124;03m\"\"\"Transform the given indicator matrix into label sets.\u001b[39;00m\n\u001b[0;32m    906\u001b[0m \n\u001b[0;32m    907\u001b[0m \u001b[38;5;124;03mParameters\u001b[39;00m\n\u001b[1;32m   (...)\u001b[0m\n\u001b[0;32m    916\u001b[0m \u001b[38;5;124;03m    `classes_[j]` for each `yt[i, j] == 1`.\u001b[39;00m\n\u001b[0;32m    917\u001b[0m \u001b[38;5;124;03m\"\"\"\u001b[39;00m\n\u001b[0;32m    918\u001b[0m check_is_fitted(\u001b[38;5;28mself\u001b[39m)\n\u001b[1;32m--> 920\u001b[0m \u001b[38;5;28;01mif\u001b[39;00m yt\u001b[38;5;241m.\u001b[39mshape[\u001b[38;5;241m1\u001b[39m] \u001b[38;5;241m!=\u001b[39m \u001b[38;5;28mlen\u001b[39m(\u001b[38;5;28mself\u001b[39m\u001b[38;5;241m.\u001b[39mclasses_):\n\u001b[0;32m    921\u001b[0m     \u001b[38;5;28;01mraise\u001b[39;00m \u001b[38;5;167;01mValueError\u001b[39;00m(\n\u001b[0;32m    922\u001b[0m         \u001b[38;5;124m\"\u001b[39m\u001b[38;5;124mExpected indicator for \u001b[39m\u001b[38;5;132;01m{0}\u001b[39;00m\u001b[38;5;124m classes, but got \u001b[39m\u001b[38;5;132;01m{1}\u001b[39;00m\u001b[38;5;124m\"\u001b[39m\u001b[38;5;241m.\u001b[39mformat(\n\u001b[0;32m    923\u001b[0m             \u001b[38;5;28mlen\u001b[39m(\u001b[38;5;28mself\u001b[39m\u001b[38;5;241m.\u001b[39mclasses_), yt\u001b[38;5;241m.\u001b[39mshape[\u001b[38;5;241m1\u001b[39m]\n\u001b[0;32m    924\u001b[0m         )\n\u001b[0;32m    925\u001b[0m     )\n\u001b[0;32m    927\u001b[0m \u001b[38;5;28;01mif\u001b[39;00m sp\u001b[38;5;241m.\u001b[39missparse(yt):\n",
      "\u001b[1;31mAttributeError\u001b[0m: 'list' object has no attribute 'shape'"
     ]
    }
   ],
   "source": []
  },
  {
   "cell_type": "code",
   "execution_count": 51,
   "id": "7d07e6d3",
   "metadata": {},
   "outputs": [
    {
     "name": "stdout",
     "output_type": "stream",
     "text": [
      "Predicted Events: ['Veneration of Relics', 'Mass']\n"
     ]
    }
   ],
   "source": [
    "# Example: event label order used during training\n",
    "event_labels = ['Fair/Cultural Event/Sightseeing', 'Veneration of Relics', 'Mass']\n",
    "\n",
    "# Get predicted events (True = 1)\n",
    "predicted_events_list = [event for event, val in zip(event_labels, predicted_event[0]) if val == 1]\n",
    "print(\"Predicted Events:\", predicted_events_list)"
   ]
  },
  {
   "cell_type": "code",
   "execution_count": 39,
   "id": "96e9efc6",
   "metadata": {},
   "outputs": [],
   "source": [
    "# Decode the label-encoded categories to show original text values\n",
    "valid_choices = {\n",
    "    'Age groups': le_age.inverse_transform(sorted(df['Age groups'].unique())),\n",
    "    'Gender:': le_gender.inverse_transform(sorted(df['Gender:'].unique())),\n",
    "    'State/Country': le_state.inverse_transform(sorted(df['State/Country'].unique())),\n",
    "    'Type of visitors': le_visitcount.inverse_transform(sorted(df['Type of visitors'].unique())),\n",
    "    'Are you camping at the Basilica?': le_stay.inverse_transform(sorted(df['Are you camping at the Basilica?'].unique()))\n",
    "}\n"
   ]
  },
  {
   "cell_type": "code",
   "execution_count": 40,
   "id": "9a147b9c",
   "metadata": {},
   "outputs": [],
   "source": [
    "def interactive_predict_event(model, le_gender, le_state, le_stay, le_age, le_visitcount, event_labels, valid_choices):\n",
    "    print(\"\\n Welcome to the Visitor Event Predictor!\")\n",
    "    print(\"Please enter values from the valid options shown below.\\n\")\n",
    "\n",
    "    raw_input = {}\n",
    "\n",
    "    for feature, options in valid_choices.items():\n",
    "        print(f\"{feature} options: {list(options)}\")\n",
    "        while True:\n",
    "            user_input = input(f\"Enter value for '{feature}': \")\n",
    "            if user_input in options:\n",
    "                raw_input[feature] = user_input\n",
    "                break\n",
    "            else:\n",
    "                print(\"❌ Invalid input. Please enter exactly one of the shown options.\")\n",
    "\n",
    "    # Additional binary inputs\n",
    "    raw_input['Weekend'] = input(\"Is it a Weekend? (Yes/No): \").strip().capitalize()\n",
    "    raw_input['Is Feast Day'] = input(\"Is it Feast Day? (Yes/No): \").strip().capitalize()\n",
    "\n",
    "    # Encode input\n",
    "    try:\n",
    "        encoded_input = {\n",
    "            'Age groups': le_age.transform([raw_input['Age groups']])[0],\n",
    "            'Gender:': le_gender.transform([raw_input['Gender:']])[0],\n",
    "            'State/Country': le_state.transform([raw_input['State/Country']])[0],\n",
    "            'Type of visitors': le_visitcount.transform([raw_input['Type of visitors']])[0],\n",
    "            'Are you camping at the Basilica?': le_stay.transform([raw_input['Are you camping at the Basilica?']])[0],\n",
    "            'Weekend': 1 if raw_input['Weekend'] == 'Yes' else 0,\n",
    "            'Is Feast Day': 1 if raw_input['Is Feast Day'] == 'Yes' else 0\n",
    "        }\n",
    "\n",
    "        input_df = pd.DataFrame([encoded_input])\n",
    "        y_pred = model.predict(input_df)\n",
    "        predicted_events = [event_labels[i] for i, val in enumerate(y_pred[0]) if val == 1]\n",
    "\n",
    "        print(\"\\n✅ Prediction complete!\\n\")\n",
    "        print(\"🎯 Predicted Events :\")\n",
    "        if predicted_events:\n",
    "            for event in predicted_events:\n",
    "                print(\"•\", event)\n",
    "        else:\n",
    "            print(\"No specific event predicted.\")\n",
    "            \n",
    "    except Exception as e:\n",
    "        print(\"❌ Error during prediction:\", str(e))\n"
   ]
  },
  {
   "cell_type": "code",
   "execution_count": 41,
   "id": "7be4d24c",
   "metadata": {},
   "outputs": [
    {
     "name": "stdout",
     "output_type": "stream",
     "text": [
      "\n",
      " Welcome to the Visitor Event Predictor!\n",
      "Please enter values from the valid options shown below.\n",
      "\n",
      "Age groups options: ['early professionals', 'mature adults', 'senior citizen', 'young adults', 'young dependents', 'youth']\n",
      "Gender: options: ['Male', 'female']\n",
      "❌ Invalid input. Please enter exactly one of the shown options.\n",
      "State/Country options: ['andhra pradesh', 'arunachal pradesh', 'assam', 'australia', 'belarus', 'bihar', 'chhattisgarh', 'delhi', 'fiji', 'france', 'germany', 'goa', 'gujarat', 'haryana', 'himachal pradesh', 'ireland', 'jammu & kashmir', 'jharkhand', 'karnataka', 'kerala', 'khazakistan', 'madhya pradesh', 'maharashtra', 'manipur', 'meghalaya', 'nagaland', 'nepal', 'netherlands', 'odisha', 'philippines', 'poland', 'portugal', 'punjab', 'rajasthan', 'russia', 'singapore', 'spain', 'switzerland', 'tamil nadu', 'tanzania', 'telangana', 'uk', 'usa', 'uttar pradesh', 'uttarakhand', 'washington dc', 'west bengal', 'zimbabwe']\n",
      "Type of visitors options: ['first time visitors', 'frequent visitors', 'long-time devotees', 'ocassional visitors']\n",
      "Are you camping at the Basilica? options: ['no', 'yes']\n",
      "\n",
      "✅ Prediction complete!\n",
      "\n",
      "🎯 Predicted Events :\n",
      "• Fair/Cultural Event/Sightseeing\n",
      "• Veneration of Relics\n"
     ]
    }
   ],
   "source": [
    "interactive_predict_event(loaded_model, le_gender, le_state, le_stay, le_age, le_visitcount, event_labels, valid_choices)\n"
   ]
  },
  {
   "cell_type": "code",
   "execution_count": 43,
   "id": "488ceeb3",
   "metadata": {},
   "outputs": [
    {
     "name": "stdout",
     "output_type": "stream",
     "text": [
      "1.2.2\n"
     ]
    }
   ],
   "source": [
    "import sklearn\n",
    "print(sklearn.__version__)"
   ]
  }
 ],
 "metadata": {
  "kernelspec": {
   "display_name": "base",
   "language": "python",
   "name": "python3"
  },
  "language_info": {
   "codemirror_mode": {
    "name": "ipython",
    "version": 3
   },
   "file_extension": ".py",
   "mimetype": "text/x-python",
   "name": "python",
   "nbconvert_exporter": "python",
   "pygments_lexer": "ipython3",
   "version": "3.11.4"
  }
 },
 "nbformat": 4,
 "nbformat_minor": 5
}
