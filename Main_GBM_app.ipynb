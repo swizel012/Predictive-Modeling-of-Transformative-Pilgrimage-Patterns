{
 "cells": [
  {
   "cell_type": "code",
   "execution_count": 53,
   "id": "bf68965f",
   "metadata": {},
   "outputs": [],
   "source": [
    "#Importing Libraries\n",
    "import pandas as pd\n",
    "import numpy as np\n",
    "import matplotlib.pyplot as plt\n",
    "import seaborn as sns\n",
    "from sklearn.preprocessing import LabelEncoder\n",
    "from sklearn.model_selection import train_test_split\n",
    "from sklearn.metrics import classification_report, accuracy_score\n",
    "from sklearn.ensemble import GradientBoostingClassifier"
   ]
  },
  {
   "cell_type": "code",
   "execution_count": 54,
   "id": "4974c185",
   "metadata": {},
   "outputs": [],
   "source": [
    "# Load dataset\n",
    "file_path = \"C:/Users/91749/Downloads/Goa University Dissertation (1).xlsx\"\n",
    "xls = pd.ExcelFile(file_path)\n",
    "df = xls.parse(\"Onsite Form Responses \")"
   ]
  },
  {
   "cell_type": "code",
   "execution_count": 55,
   "id": "2832177f",
   "metadata": {},
   "outputs": [
    {
     "name": "stdout",
     "output_type": "stream",
     "text": [
      "Index(['Timestamp', 'Your Age', 'Gender:',\n",
      "       'State of Residence in India/ Country', 'Event Attending',\n",
      "       'How many years (approx) have you been visiting the Basilica?',\n",
      "       'Are you camping at the Basilica?',\n",
      "       'I agree to have my information used only for research purposes.',\n",
      "       'walking pilgrim', 'State/Country', 'Region', 'Age groups',\n",
      "       'No of times visited', 'Type of visitors', 'Country', 'Column 1'],\n",
      "      dtype='object')\n"
     ]
    }
   ],
   "source": [
    "# Strip column names\n",
    "df.columns = df.columns.str.strip()\n",
    "\n",
    "# List of columns to clean\n",
    "cols_to_clean = [\n",
    "    'State/Country',\n",
    "    'Gender:',\n",
    "    'Are you camping at the Basilica?',\n",
    "    'Age groups',\n",
    "    'Type of visitors',\n",
    "    'walking pilgrim'\n",
    "]\n",
    "\n",
    "# Apply strip and lower to each column in the list\n",
    "for col in cols_to_clean:\n",
    "    df[col] = df[col].apply(lambda x: str(x).strip().lower())\n",
    "print(df.columns)"
   ]
  },
  {
   "cell_type": "code",
   "execution_count": 56,
   "id": "c5671a09",
   "metadata": {},
   "outputs": [],
   "source": [
    "#Rename Columns\n",
    "df.rename(columns={\n",
    "    'Are you camping at the Basilica?': 'camping',\n",
    "    'Type of visitors': 'Visitor frequency',\n",
    "    'Event Attending': 'Event',\n",
    "    'Gender:': 'Gender'\n",
    "}, inplace=True)\n"
   ]
  },
  {
   "cell_type": "code",
   "execution_count": 57,
   "id": "c38a1d12",
   "metadata": {},
   "outputs": [
    {
     "name": "stdout",
     "output_type": "stream",
     "text": [
      "Index(['Timestamp', 'Your Age', 'Gender',\n",
      "       'State of Residence in India/ Country', 'Event',\n",
      "       'How many years (approx) have you been visiting the Basilica?',\n",
      "       'camping',\n",
      "       'I agree to have my information used only for research purposes.',\n",
      "       'walking pilgrim', 'State/Country', 'Region', 'Age groups',\n",
      "       'No of times visited', 'Visitor frequency', 'Country', 'Column 1'],\n",
      "      dtype='object')\n"
     ]
    }
   ],
   "source": [
    "print(df.columns)"
   ]
  },
  {
   "cell_type": "code",
   "execution_count": 58,
   "id": "a01cb764",
   "metadata": {},
   "outputs": [],
   "source": [
    "# Extract useful components of date\n",
    "df['Day'] = df['Timestamp'].dt.day\n",
    "df['Month'] = df['Timestamp'].dt.month\n",
    "df['Weekday'] = df['Timestamp'].dt.weekday  # 0 = Monday, 6 = Sunday\n",
    "df['Weekend'] = df['Weekday'].apply(lambda x: 1 if x >= 5 else 0)\n",
    "df['Is_Feast_Day'] = df['Timestamp'].isin(['2024-12-03']).astype(int)  # Add your feast dates"
   ]
  },
  {
   "cell_type": "code",
   "execution_count": 59,
   "id": "16ae801c",
   "metadata": {},
   "outputs": [
    {
     "name": "stdout",
     "output_type": "stream",
     "text": [
      "0                         [Veneration of Relics, Mass]\n",
      "1                [Fair / Cultural Event / Sightseeing]\n",
      "2    [Veneration of Relics, Mass, Fair / Cultural E...\n",
      "3    [Veneration of Relics, Mass, Fair / Cultural E...\n",
      "4    [Veneration of Relics, Mass, Fair / Cultural E...\n",
      "Name: Event, dtype: object\n"
     ]
    }
   ],
   "source": [
    "#Checks if value is missing, split the string on commas and makes into list of items, and tims whitespace for each item in list\n",
    "\n",
    "df['Event'] = df['Event'].apply(lambda x: [i.strip() for i in x.split(',')] if pd.notna(x) else [])\n",
    "print(df['Event'].head(5)) "
   ]
  },
  {
   "cell_type": "code",
   "execution_count": 60,
   "id": "e3722df0",
   "metadata": {},
   "outputs": [],
   "source": [
    "# Create new columns for each event\n",
    "df['Veneration_of_Relics'] = df['Event'].apply(lambda x: 1 if 'Veneration of Relics' in x else 0)\n",
    "df['Mass'] = df['Event'].apply(lambda x: 1 if 'Mass' in x else 0)\n",
    "df['Fair/Cultural_Event/Sightseeing'] = df['Event'].apply(lambda x: 1 if 'Fair / Cultural Event / Sightseeing' in x else 0)\n",
    "df['Walking_pilgrimage'] = df['Event'].apply(lambda x: 1 if 'Walking pilgrimage' in x else 0)\n",
    "\n"
   ]
  },
  {
   "cell_type": "code",
   "execution_count": 61,
   "id": "89c4fffe",
   "metadata": {},
   "outputs": [],
   "source": [
    "from sklearn.preprocessing import LabelEncoder\n",
    "\n",
    "# Columns to encode\n",
    "cols_to_encode = [\n",
    "    'Gender',\n",
    "    'State/Country',\n",
    "    'camping',\n",
    "    'Age groups',\n",
    "    'Visitor frequency',\n",
    "    'walking pilgrim'\n",
    "]\n",
    "\n",
    "# Dictionary to store encoders\n",
    "encoders = {}\n",
    "\n",
    "# Apply LabelEncoder to each column\n",
    "for col in cols_to_encode:\n",
    "    le = LabelEncoder()\n",
    "    df[col] = le.fit_transform(df[col])\n",
    "    encoders[col] = le  # Save encoder in case you need to inverse transform later\n"
   ]
  },
  {
   "cell_type": "code",
   "execution_count": 62,
   "id": "a2bc375d",
   "metadata": {},
   "outputs": [
    {
     "name": "stdout",
     "output_type": "stream",
     "text": [
      "   Timestamp  Your Age  Gender State of Residence in India/ Country  \\\n",
      "0 2024-11-24        68       0                                  Goa   \n",
      "1 2024-11-24        17       0                           Chandigarh   \n",
      "2 2024-11-24        40       0                           Tamil Nadu   \n",
      "3 2024-11-24        42       1                           Tamil Nadu   \n",
      "4 2024-11-24        75       1                          Tamil Nadu    \n",
      "\n",
      "                                               Event  \\\n",
      "0                       [Veneration of Relics, Mass]   \n",
      "1              [Fair / Cultural Event / Sightseeing]   \n",
      "2  [Veneration of Relics, Mass, Fair / Cultural E...   \n",
      "3  [Veneration of Relics, Mass, Fair / Cultural E...   \n",
      "4  [Veneration of Relics, Mass, Fair / Cultural E...   \n",
      "\n",
      "  How many years (approx) have you been visiting the Basilica?  camping  \\\n",
      "0                                  Its my first time                  1   \n",
      "1                                  Its my first time                  0   \n",
      "2                                            2 years                  0   \n",
      "3                                            2 years                  0   \n",
      "4                                            2 years                  0   \n",
      "\n",
      "  I agree to have my information used only for research purposes.  \\\n",
      "0                                                Yes                \n",
      "1                                                Yes                \n",
      "2                                                Yes                \n",
      "3                                                Yes                \n",
      "4                                                Yes                \n",
      "\n",
      "   walking pilgrim  State/Country  ... Column 1  Day Month  Weekday Weekend  \\\n",
      "0                1             11  ...      NaN   24    11        6       1   \n",
      "1                1             32  ...      NaN   24    11        6       1   \n",
      "2                1             38  ...      NaN   24    11        6       1   \n",
      "3                1             38  ...      NaN   24    11        6       1   \n",
      "4                1             38  ...      NaN   24    11        6       1   \n",
      "\n",
      "   Is_Feast_Day  Veneration_of_Relics  Mass  Fair/Cultural_Event/Sightseeing  \\\n",
      "0             0                     1     1                                0   \n",
      "1             0                     0     0                                1   \n",
      "2             0                     1     1                                1   \n",
      "3             0                     1     1                                1   \n",
      "4             0                     1     1                                1   \n",
      "\n",
      "   Walking_pilgrimage  \n",
      "0                   0  \n",
      "1                   0  \n",
      "2                   0  \n",
      "3                   0  \n",
      "4                   0  \n",
      "\n",
      "[5 rows x 25 columns]\n"
     ]
    }
   ],
   "source": [
    "print(df.head(5))"
   ]
  },
  {
   "cell_type": "code",
   "execution_count": 63,
   "id": "e0d717fb",
   "metadata": {},
   "outputs": [],
   "source": [
    "# Replace \"It's my first time\" with 1 in Visit_Count column\n",
    "df[\"No of times visited\"] = df[\"No of times visited\"].replace(\"Its my first time\", 1)"
   ]
  },
  {
   "cell_type": "code",
   "execution_count": 64,
   "id": "a9079d78",
   "metadata": {},
   "outputs": [],
   "source": [
    "# Define features and labels\n",
    "X = df[['Age groups', 'Gender', 'State/Country', 'Visitor frequency', 'camping', 'Weekend', 'Is_Feast_Day']]\n",
    "y = df[['Fair/Cultural_Event/Sightseeing','Veneration_of_Relics', 'Mass']]"
   ]
  },
  {
   "cell_type": "code",
   "execution_count": 65,
   "id": "59e1bb46",
   "metadata": {},
   "outputs": [],
   "source": [
    "# Split dataset\n",
    "X_train, X_test, y_train, y_test = train_test_split(X, y, test_size=0.3, random_state=42)"
   ]
  },
  {
   "cell_type": "code",
   "execution_count": 66,
   "id": "12db0cc0",
   "metadata": {},
   "outputs": [
    {
     "name": "stdout",
     "output_type": "stream",
     "text": [
      "\n",
      "--- GradientBoosting Classifier ---\n",
      "                                 precision    recall  f1-score   support\n",
      "\n",
      "Fair/Cultural_Event/Sightseeing       0.71      0.86      0.78       369\n",
      "           Veneration_of_Relics       0.79      0.93      0.85       472\n",
      "                           Mass       0.77      0.70      0.73       316\n",
      "\n",
      "                      micro avg       0.76      0.84      0.80      1157\n",
      "                      macro avg       0.76      0.83      0.79      1157\n",
      "                   weighted avg       0.76      0.84      0.80      1157\n",
      "                    samples avg       0.75      0.84      0.77      1157\n",
      "\n",
      "Accuracy Score: 0.4969230769230769\n",
      "Hamming Loss: 0.2528205128205128\n",
      "Jaccard Score (macro): 0.6524444647874068\n"
     ]
    },
    {
     "name": "stderr",
     "output_type": "stream",
     "text": [
      "c:\\Users\\91749\\anaconda3\\Lib\\site-packages\\sklearn\\metrics\\_classification.py:1344: UndefinedMetricWarning: Precision and F-score are ill-defined and being set to 0.0 in samples with no predicted labels. Use `zero_division` parameter to control this behavior.\n",
      "  _warn_prf(average, modifier, msg_start, len(result))\n",
      "c:\\Users\\91749\\anaconda3\\Lib\\site-packages\\sklearn\\metrics\\_classification.py:1344: UndefinedMetricWarning: Recall and F-score are ill-defined and being set to 0.0 in samples with no true labels. Use `zero_division` parameter to control this behavior.\n",
      "  _warn_prf(average, modifier, msg_start, len(result))\n"
     ]
    }
   ],
   "source": [
    "from sklearn.metrics import hamming_loss, jaccard_score\n",
    "from sklearn.multioutput import MultiOutputClassifier\n",
    "### Gradient Boosting Classifier ###\n",
    "print(\"\\n--- GradientBoosting Classifier ---\")\n",
    "gb_model = MultiOutputClassifier(GradientBoostingClassifier(random_state=42))\n",
    "gb_model.fit(X_train, y_train)\n",
    "y_pred_gb = gb_model.predict(X_test)\n",
    "print(classification_report(y_test, y_pred_gb, target_names=y.columns))\n",
    "print(\"Accuracy Score:\", accuracy_score(y_test, y_pred_gb))\n",
    "print(\"Hamming Loss:\", hamming_loss(y_test, y_pred_gb))\n",
    "print(\"Jaccard Score (macro):\", jaccard_score(y_test, y_pred_gb, average='macro'))"
   ]
  },
  {
   "cell_type": "code",
   "execution_count": 67,
   "id": "d7fa5204",
   "metadata": {},
   "outputs": [
    {
     "name": "stdout",
     "output_type": "stream",
     "text": [
      "Feature Importance\n",
      " State/Country        0.445265\n",
      "Is_Feast_Day         0.202310\n",
      "Visitor frequency    0.106904\n",
      "Age groups           0.106280\n",
      "Weekend              0.075436\n",
      "camping              0.055491\n",
      "Gender               0.008315\n",
      "dtype: float64\n"
     ]
    }
   ],
   "source": [
    "importances = gb_model.estimators_[0].feature_importances_\n",
    "feature_names = X.columns\n",
    "feature_importance = pd.Series(importances, index=feature_names).sort_values(ascending=False)\n",
    "print('Feature Importance\\n',feature_importance)"
   ]
  },
  {
   "cell_type": "code",
   "execution_count": null,
   "id": "62d3a420",
   "metadata": {},
   "outputs": [
    {
     "data": {
      "text/plain": [
       "'\\nfrom sklearn.metrics import classification_report, accuracy_score, hamming_loss, jaccard_score, roc_auc_score, roc_curve, auc\\n\\nfrom sklearn.multioutput import MultiOutputClassifier\\n\\n\\n# Function to plot ROC Curve for multi-label\\ndef plot_multilabel_roc(y_test, y_score, title, class_names):\\n    n_classes = y_test.shape[1]\\n    fpr = dict()\\n    tpr = dict()\\n    roc_auc = dict()\\n\\n    for i in range(n_classes):\\n        fpr[i], tpr[i], _ = roc_curve(y_test.iloc[:, i], y_score[:, i])\\n        roc_auc[i] = auc(fpr[i], tpr[i])\\n\\n    plt.figure()\\n    for i in range(n_classes):\\n        plt.plot(fpr[i], tpr[i], label=f\\'{class_names[i]} (AUC = {roc_auc[i]:.2f})\\')\\n    plt.plot([0, 1], [0, 1], \\'k--\\')\\n    plt.xlabel(\\'False Positive Rate\\')\\n    plt.ylabel(\\'True Positive Rate\\')\\n    plt.title(f\\'ROC Curve - {title}\\')\\n    plt.legend(loc=\\'lower right\\')\\n    plt.grid()\\n    plt.show()\\n\\n# List of models\\nmodels = {\\n\\n    \"Gradient Boosting\": MultiOutputClassifier(GradientBoostingClassifier())\\n}\\n\\n# Evaluate each model\\nfor name, model in models.items():\\n    print(f\"\\n--- {name} Classifier ---\")\\n    model.fit(X_train, y_train)\\n    y_pred = model.predict(X_test)\\n    \\n    # Try-except for predict_proba\\n    try:\\n        y_score = model.predict_proba(X_test)\\n        y_score = np.array([prob[:, 1] for prob in y_score]).T\\n        supports_proba = True\\n    except AttributeError:\\n        y_score = y_pred\\n        supports_proba = False\\n\\n    print(classification_report(y_test, y_pred, target_names=y.columns))\\n    print(\"Accuracy Score:\", accuracy_score(y_test, y_pred))\\n    print(\"Hamming Loss:\", hamming_loss(y_test, y_pred))\\n    print(\"Jaccard Score (macro):\", jaccard_score(y_test, y_pred, average=\\'macro\\'))\\n\\n    if supports_proba:\\n        print(\"AUC-ROC Score (macro):\", roc_auc_score(y_test, y_score, average=\\'macro\\'))\\n        plot_multilabel_roc(y_test, y_score, name, y.columns)'"
      ]
     },
     "execution_count": 68,
     "metadata": {},
     "output_type": "execute_result"
    }
   ],
   "source": []
  },
  {
   "cell_type": "code",
   "execution_count": 69,
   "id": "af3cf590",
   "metadata": {},
   "outputs": [
    {
     "name": "stdout",
     "output_type": "stream",
     "text": [
      "✅ Model saved successfully!\n"
     ]
    }
   ],
   "source": [
    "import joblib\n",
    "import os\n",
    "os.makedirs('models', exist_ok=True)\n",
    "# Save the entire MultiOutput Gradient Boosting model\n",
    "joblib.dump(gb_model, 'models/gradient_boost_multioutput_model.joblib')\n",
    "print(\"✅ Model saved successfully!\")"
   ]
  },
  {
   "cell_type": "code",
   "execution_count": 70,
   "id": "a8b24c68",
   "metadata": {},
   "outputs": [
    {
     "name": "stdout",
     "output_type": "stream",
     "text": [
      "All encoders saved successfully!\n"
     ]
    }
   ],
   "source": [
    "\n",
    "\n",
    "# Save all encoders in the 'encoders' folder\n",
    "os.makedirs('encoders', exist_ok=True)  # Create directory if it doesn't exist\n",
    "\n",
    "for col, encoder in encoders.items():\n",
    "    filename = f'encoders/le_{col.replace(\"/\", \"_\").replace(\" \", \"_\")}.joblib'\n",
    "    joblib.dump(encoder, filename)\n",
    "\n",
    "print(\"All encoders saved successfully!\")\n"
   ]
  },
  {
   "cell_type": "code",
   "execution_count": 71,
   "id": "819418aa",
   "metadata": {},
   "outputs": [],
   "source": [
    "# Step 4: Load the model from the saved file\n",
    "loaded_model = joblib.load('models/gradient_boost_multioutput_model.joblib')\n",
    "\n",
    "# Predict with the loaded model (using the same test set as an example)\n",
    "y_pred_loaded = loaded_model.predict(X_test)\n",
    "\n"
   ]
  },
  {
   "cell_type": "code",
   "execution_count": 72,
   "id": "2a5430f9",
   "metadata": {},
   "outputs": [
    {
     "name": "stdout",
     "output_type": "stream",
     "text": [
      "Predicted Event(s): [[0 1 1]]\n"
     ]
    }
   ],
   "source": [
    "import pandas as pd\n",
    "\n",
    "# Example new input for a first-time visitor\n",
    "new_data = pd.DataFrame([{\n",
    "\n",
    "    'Age groups':4, \n",
    "    'Gender':1, \n",
    "    'State/Country':1, \n",
    "    'Visitor frequency':2, \n",
    "    'camping':1, \n",
    "    'Weekend':1, \n",
    "    'Is_Feast_Day':1\n",
    "}])\n",
    "\n",
    "# Predict event(s) the visitor is likely to attend\n",
    "predicted_event = loaded_model.predict(new_data)\n",
    "\n",
    "# If it's multioutput, this will return a 2D array (e.g., [[1, 0, 1]] for 3 events)\n",
    "print(\"Predicted Event(s):\", predicted_event)\n",
    "\n",
    "\n"
   ]
  },
  {
   "cell_type": "code",
   "execution_count": 73,
   "id": "7d07e6d3",
   "metadata": {},
   "outputs": [
    {
     "name": "stdout",
     "output_type": "stream",
     "text": [
      "Predicted Events: ['Veneration of Relics', 'Mass']\n"
     ]
    }
   ],
   "source": [
    "# Example: event label order used during training\n",
    "event_labels = ['Fair/Cultural Event/Sightseeing', 'Veneration of Relics', 'Mass']\n",
    "\n",
    "# Get predicted events (True = 1)\n",
    "predicted_events_list = [event for event, val in zip(event_labels, predicted_event[0]) if val == 1]\n",
    "print(\"Predicted Events:\", predicted_events_list)"
   ]
  },
  {
   "cell_type": "code",
   "execution_count": 74,
   "id": "96e9efc6",
   "metadata": {},
   "outputs": [],
   "source": [
    "# Decode the label-encoded categories to show original text values\n",
    "valid_choices = {\n",
    "    col: encoder.inverse_transform(sorted(df[col].unique()))\n",
    "    for col, encoder in encoders.items()\n",
    "}\n"
   ]
  },
  {
   "cell_type": "code",
   "execution_count": 75,
   "id": "3879ca3a",
   "metadata": {},
   "outputs": [],
   "source": [
    "import joblib\n",
    "# List of encoded columns (should match what you used originally)\n",
    "encoded_columns = ['Gender', 'State/Country', 'camping', 'Age groups', 'Visitor frequency']\n",
    "\n",
    "# Load encoders into a dictionary\n",
    "encoders = {\n",
    "    col: joblib.load(f'encoders/le_{col.replace(\"/\", \"_\").replace(\" \", \"_\")}.joblib')\n",
    "    for col in encoded_columns\n",
    "}"
   ]
  },
  {
   "cell_type": "code",
   "execution_count": 76,
   "id": "9a147b9c",
   "metadata": {},
   "outputs": [],
   "source": [
    "def interactive_predict_event(model, encoders, event_labels, valid_choices):\n",
    "    print(\"\\n🎉 Welcome to the Visitor Event Predictor!\")\n",
    "    print(\"Please enter values from the valid options shown below.\\n\")\n",
    "\n",
    "    raw_input = {}\n",
    "\n",
    "    # Step 1: Get categorical inputs\n",
    "    for feature, options in valid_choices.items():\n",
    "        print(f\"{feature} options: {list(options)}\")\n",
    "        while True:\n",
    "            user_input = input(f\"Enter value for '{feature}': \").strip()\n",
    "            if user_input in options:\n",
    "                raw_input[feature] = user_input\n",
    "                break\n",
    "            else:\n",
    "                print(\"❌ Invalid input. Please enter exactly one of the shown options.\")\n",
    "\n",
    "    # Step 2: Get binary inputs\n",
    "    while True:\n",
    "        weekend = input(\"Is it a Weekend? (Yes/No): \").strip().capitalize()\n",
    "        if weekend in ['Yes', 'No']:\n",
    "            raw_input['Weekend'] = 1 if weekend == 'Yes' else 0\n",
    "            break\n",
    "        else:\n",
    "            print(\"❌ Please enter 'Yes' or 'No'.\")\n",
    "\n",
    "    while True:\n",
    "        feast_day = input(\"Is it Feast Day? (Yes/No): \").strip().capitalize()\n",
    "        if feast_day in ['Yes', 'No']:\n",
    "            raw_input['Is_Feast_Day'] = 1 if feast_day == 'Yes' else 0\n",
    "            break\n",
    "        else:\n",
    "            print(\"❌ Please enter 'Yes' or 'No'.\")\n",
    "\n",
    "    # Step 3: Encode input\n",
    "    try:\n",
    "        encoded_input = {\n",
    "            'Age groups': encoders['Age groups'].transform([raw_input['Age groups']])[0],\n",
    "            'Gender': encoders['Gender'].transform([raw_input['Gender']])[0],\n",
    "            'State/Country': encoders['State/Country'].transform([raw_input['State/Country']])[0],\n",
    "            'Visitor frequency': encoders['Visitor frequency'].transform([raw_input['Visitor frequency']])[0],\n",
    "            'camping': encoders['camping'].transform([raw_input['camping']])[0],\n",
    "            'Weekend': raw_input['Weekend'],\n",
    "            'Is_Feast_Day': raw_input['Is_Feast_Day']\n",
    "        }\n",
    "\n",
    "        input_df = pd.DataFrame([encoded_input])\n",
    "        y_pred = model.predict(input_df)\n",
    "        predicted_events = [event_labels[i] for i, val in enumerate(y_pred[0]) if val == 1]\n",
    "\n",
    "        print(\"\\n✅ Prediction complete!\\n🎯 Predicted Events:\")\n",
    "        if predicted_events:\n",
    "            for event in predicted_events:\n",
    "                print(\"•\", event)\n",
    "        else:\n",
    "            print(\"No specific event predicted.\")\n",
    "\n",
    "    except Exception as e:\n",
    "        print(\"❌ Error during prediction:\", str(e))\n"
   ]
  },
  {
   "cell_type": "code",
   "execution_count": 77,
   "id": "7be4d24c",
   "metadata": {},
   "outputs": [
    {
     "name": "stdout",
     "output_type": "stream",
     "text": [
      "\n",
      "🎉 Welcome to the Visitor Event Predictor!\n",
      "Please enter values from the valid options shown below.\n",
      "\n",
      "Gender options: ['female', 'male']\n",
      "State/Country options: ['andhra pradesh', 'arunachal pradesh', 'assam', 'australia', 'belarus', 'bihar', 'chhattisgarh', 'delhi', 'fiji', 'france', 'germany', 'goa', 'gujarat', 'haryana', 'himachal pradesh', 'ireland', 'jammu & kashmir', 'jharkhand', 'karnataka', 'kerala', 'khazakistan', 'madhya pradesh', 'maharashtra', 'manipur', 'meghalaya', 'nagaland', 'nepal', 'netherlands', 'odisha', 'philippines', 'poland', 'portugal', 'punjab', 'rajasthan', 'russia', 'singapore', 'spain', 'switzerland', 'tamil nadu', 'tanzania', 'telangana', 'uk', 'usa', 'uttar pradesh', 'uttarakhand', 'washington dc', 'west bengal', 'zimbabwe']\n",
      "camping options: ['no', 'yes']\n",
      "Age groups options: ['early professionals', 'mature adults', 'senior citizen', 'young adults', 'young dependents', 'youth']\n",
      "Visitor frequency options: ['first time visitors', 'frequent visitors', 'long-time devotees', 'ocassional visitors']\n",
      "walking pilgrim options: ['goa pilgrim', 'no', 'walking pilgrimage']\n",
      "\n",
      "✅ Prediction complete!\n",
      "🎯 Predicted Events:\n",
      "• Veneration of Relics\n",
      "• Mass\n"
     ]
    }
   ],
   "source": [
    "interactive_predict_event(loaded_model, encoders, event_labels, valid_choices)\n"
   ]
  }
 ],
 "metadata": {
  "kernelspec": {
   "display_name": "base",
   "language": "python",
   "name": "python3"
  },
  "language_info": {
   "codemirror_mode": {
    "name": "ipython",
    "version": 3
   },
   "file_extension": ".py",
   "mimetype": "text/x-python",
   "name": "python",
   "nbconvert_exporter": "python",
   "pygments_lexer": "ipython3",
   "version": "3.11.4"
  }
 },
 "nbformat": 4,
 "nbformat_minor": 5
}
